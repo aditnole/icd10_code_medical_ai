{
 "cells": [
  {
   "cell_type": "code",
   "execution_count": null,
   "metadata": {},
   "outputs": [],
   "source": [
    "import llm_utils\n",
    "import importlib\n",
    "from llm_utils import analyze_clinical_note, summarize_clinical_note\n",
    "sample_test = \"A 15-day-old neonate presented with 3 days of irritability, fever (38.5°C), poor sucking, and left preauricular swelling. Examination showed a 5 cm × 5 cm fluctuant left parotid gland swelling with pus from the Stensen's duct. Laboratory results indicated elevated white blood cells (17.6 × 10^9/L). Ultrasound suggested acute suppurative parotitis. Initial treatment involved intravenous cefotaxime and rehydration, followed by surgical drainage. Pus culture identified methicillin-resistant S. aureus, prompting a switch to intravenous vancomycin for 10 days, leading to full recovery without residual parotid issues.\"\n",
    "llm_response = analyze_clinical_note(sample_test)\n",
    "llm_response "
   ]
  },
  {
   "cell_type": "code",
   "execution_count": null,
   "metadata": {},
   "outputs": [],
   "source": [
    "print(llm_response.identified_codes)\n",
    "summary = summarize_clinical_note(example1)\n",
    "summary"
   ]
  },
  {
   "cell_type": "code",
   "execution_count": null,
   "metadata": {},
   "outputs": [],
   "source": [
    "import llm_prompts\n",
    "sample_test = \"A 15-day-old neonate presented with 3 days of irritability, fever (38.5°C), poor sucking, and left preauricular swelling. Examination showed a 5 cm × 5 cm fluctuant left parotid gland swelling with pus from the Stensen's duct. Laboratory results indicated elevated white blood cells (17.6 × 10^9/L). Ultrasound suggested acute suppurative parotitis. Initial treatment involved intravenous cefotaxime and rehydration, followed by surgical drainage. Pus culture identified methicillin-resistant S. aureus, prompting a switch to intravenous vancomycin for 10 days, leading to full recovery without residual parotid issues.\"\n",
    "prompt = llm_prompts.ICD10_DETECTION_PROMPT_v2.format(clinical_note=sample_test)\n"
   ]
  },
  {
   "cell_type": "code",
   "execution_count": 9,
   "metadata": {},
   "outputs": [
    {
     "data": {
      "text/plain": [
       "<scispacy.abbreviation.AbbreviationDetector at 0x6521e8110>"
      ]
     },
     "execution_count": 9,
     "metadata": {},
     "output_type": "execute_result"
    }
   ],
   "source": [
    "import re\n",
    "import spacy\n",
    "import nltk\n",
    "from nltk.corpus import stopwords\n",
    "from nltk.tokenize import word_tokenize\n",
    "import scispacy\n",
    "from scispacy.abbreviation import AbbreviationDetector\n",
    "from scispacy.linking import EntityLinker\n",
    "# Download stopwords (run this once)\n",
    "# nltk.download(\"stopwords\")\n",
    "# nltk.download(\"punkt\")\n",
    "# nltk.download(\"punkt_tab\")\n",
    "# Load SciSpacy medical NLP model (choose 'en_core_sci_md' or 'en_core_sci_lg' for better results)\n",
    "nlp = spacy.load(\"en_core_sci_md\")\n",
    "# Add the abbreviation pipe to the spacy pipeline\n",
    "nlp.add_pipe(\"abbreviation_detector\")\n",
    "# linker = EntityLinker()\n",
    "# nlp.add_pipe('entityLinker')"
   ]
  },
  {
   "cell_type": "code",
   "execution_count": 10,
   "metadata": {},
   "outputs": [],
   "source": [
    "# Add the entity linking pipe to the spacy pipeline\n",
    "# nlp.add_pipe(\"scispacy_linker\", config={\"resolve_abbreviations\": True, \"filter_for_definitions\": False})\n",
    "# Medical abbreviation dictionary (expandable)\n",
    "medical_abbreviations = {\n",
    "    \"zes\": \"zotarolimus-eluting stent\",\n",
    "    \"bp\": \"blood pressure\",\n",
    "    \"cad\": \"coronary artery disease\",\n",
    "    \"hba1c\": \"glycated hemoglobin\"\n",
    "}\n",
    "\n",
    "# Stopwords (keep important medical terms)\n",
    "stop_words = set(stopwords.words(\"english\"))"
   ]
  },
  {
   "cell_type": "code",
   "execution_count": 14,
   "metadata": {},
   "outputs": [
    {
     "name": "stdout",
     "output_type": "stream",
     "text": [
      "🔹 Cleaned Text:\n",
      " 72-year-old male undergo coronary artery bypass surgery 10 year ago . suffer exertional chest pain undergo follow-up coronary angiogram . coronary angiography show 80 % luminal narrowing . treat zess . blood pressure 140/90 . glycated hemoglobin 6.5 % .\n"
     ]
    },
    {
     "name": "stderr",
     "output_type": "stream",
     "text": [
      "/Users/aditya/miniconda3/lib/python3.12/site-packages/scispacy/abbreviation.py:248: UserWarning: [W036] The component 'matcher' does not have any patterns defined.\n",
      "  global_matches = self.global_matcher(doc)\n"
     ]
    }
   ],
   "source": [
    "\n",
    "def preprocess_clinical_text(text):\n",
    "    \"\"\"\n",
    "    Preprocesses clinical notes by applying:\n",
    "    - Lowercasing\n",
    "    - Removing fancy characters\n",
    "    - Expanding abbreviations\n",
    "    - Tokenization\n",
    "    - Removing non-medical stopwords\n",
    "    - Lemmatization\n",
    "    - Keeping numbers\n",
    "    - Named Entity Recognition (NER) for medical terms\n",
    "    \"\"\"\n",
    "      # 1. Lowercasing (Preserve case for known medical terms)\n",
    "    text = text.lower()\n",
    "\n",
    "    # 2. Expand medical abbreviations\n",
    "    for abbr, full_form in medical_abbreviations.items():\n",
    "        text = re.sub(r\"\\b\" + re.escape(abbr) + r\"\\b\", full_form, text)\n",
    "\n",
    "    # 3. Remove unnecessary characters, keeping medical symbols\n",
    "    text = re.sub(r\"[^a-zA-Z0-9\\s.%/-]\", \"\", text)  # Keep %, /, and -\n",
    "\n",
    "    # 4. Tokenization\n",
    "    tokens = word_tokenize(text)\n",
    "\n",
    "    # 5. Stopword Removal (except medical words)\n",
    "    tokens = [word for word in tokens if word not in stop_words]\n",
    "\n",
    "    # 6. Lemmatization\n",
    "    doc = nlp(\" \".join(tokens))\n",
    "    lemmatized_tokens = [token.lemma_ for token in doc]\n",
    "\n",
    "    # 7. Reconstruct cleaned text\n",
    "    cleaned_text = \" \".join(lemmatized_tokens)\n",
    "\n",
    "    \n",
    "    # 7. Named Entity Recognition (NER) - Extract Diagnoses, Symptoms, Procedures\n",
    "    \"\"\"Fix it later \n",
    "    extracted_entities = {\n",
    "        \"diagnoses\": [],\n",
    "        \"symptoms\": [],\n",
    "        \"procedures\": [],\n",
    "        \"medications\": []\n",
    "    }\n",
    "\n",
    "    for ent in doc.ents:\n",
    "        # Link entity to UMLS (Unified Medical Language System)\n",
    "        if len(ent._.umls_ents) > 0:\n",
    "            concept_id = ent._.umls_ents[0][0]  # Get UMLS concept ID\n",
    "            extracted_entities[\"diagnoses\"].append(ent.text) if \"Disease\" in concept_id else None\n",
    "            extracted_entities[\"symptoms\"].append(ent.text) if \"Sign_or_Symptom\" in concept_id else None\n",
    "            extracted_entities[\"procedures\"].append(ent.text) if \"Procedure\" in concept_id else None\n",
    "            extracted_entities[\"medications\"].append(ent.text) if \"Drug_or_Chemical\" in concept_id else None\n",
    "    \"\"\"\n",
    "    return cleaned_text\n",
    "\n",
    "\n",
    "# Example Patient Note\n",
    "clinical_note = \"\"\"\n",
    "A 72-year-old male underwent coronary artery bypass surgery 10 years ago.\n",
    "He suffered from exertional chest pain and underwent a follow-up coronary angiogram.\n",
    "Coronary angiography showed 80% luminal narrowing. He was treated with ZESs.\n",
    "BP was 140/90. HbA1c: 6.5%.\n",
    "\"\"\"\n",
    "\n",
    "# Apply Preprocessing\n",
    "cleaned_text = preprocess_clinical_text(clinical_note)\n",
    "\n",
    "# Print Output\n",
    "print(\"🔹 Cleaned Text:\\n\", cleaned_text)\n",
    "# print(\"\\n🔹 Extracted Medical Entities:\\n\", extracted_medical_entities)\n"
   ]
  },
  {
   "cell_type": "code",
   "execution_count": null,
   "metadata": {},
   "outputs": [],
   "source": []
  }
 ],
 "metadata": {
  "kernelspec": {
   "display_name": "base",
   "language": "python",
   "name": "python3"
  },
  "language_info": {
   "codemirror_mode": {
    "name": "ipython",
    "version": 3
   },
   "file_extension": ".py",
   "mimetype": "text/x-python",
   "name": "python",
   "nbconvert_exporter": "python",
   "pygments_lexer": "ipython3",
   "version": "3.12.2"
  }
 },
 "nbformat": 4,
 "nbformat_minor": 2
}
